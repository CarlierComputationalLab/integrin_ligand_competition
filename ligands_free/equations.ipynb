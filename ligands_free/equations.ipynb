{
  "cells": [
    {
      "cell_type": "code",
      "source": [
        "import tellurium as te # Python-based modeling environment for kinetic models\n",
        "import roadrunner as rr # High-performance simulation and analysis library\n",
        "import numpy as np # Scientific computing package\n",
        "import matplotlib.pylab as plt # Additional Python plotting utilities\n",
        "import pandas as pd\n",
        "import os\n",
        "import seaborn as sns"
      ],
      "outputs": [],
      "execution_count": 2,
      "metadata": {
        "collapsed": false,
        "outputHidden": false,
        "inputHidden": false
      }
    },
    {
      "cell_type": "code",
      "source": [
        "# 2 ligand 1 integrin  \n",
        "# ligands: fibronectin and von Willebrand Factor A (initial values adapted from kidney orgaoid iBAQ values)\n",
        "# integrin avB3 (initial value from Hudson et al)\n",
        "# here the rate for ligand binding-unbinding  is from Hudson et al (both ligands) \n",
        "# activation/inactivation is from  Yu et al. 2017\n",
        "# clustering forward is numerically from Hudson, then reverse is estimated using the Kd from Yu et al .\n",
        "Ant_str = \"\"\"\n",
        "  model test # activation model \n",
        "\n",
        "  species i, I, F, IF, W, IW, C1, C2, C3; \n",
        "  #inactive integrin, active integrin, fibronectin, integrin+fibronectin, vonWillebrand Factor A, integrin+vonWillebrand Factor A, clustered integrins respectively.\n",
        "  \n",
        "  #set initial values:\n",
        "  i = 0.05; # integrin avB3 \n",
        "  I = 0; \n",
        "  F = 0.18   ; #fibronectin \n",
        "  IF = 0;\n",
        "  W = 0.33   ; #von Willebrand factor A \n",
        "  IW = 0;  \n",
        "  C1 = 0;     # IF+IF cluster\n",
        "  C2 = 0;     # IW + IW cluster\n",
        "  C3 = 0;     # IF+IW cluster\n",
        "\n",
        "  J1: i -> I; k1*i - k2*I; # reaction; reaction rate law;   # activation step, k1 rate of activation, k2 rate of inactivation\n",
        "  J2: I + F -> IF; k3*I*F - k4*IF;                          # ligand binding step, k3 rate of fibronectin binding, k4 rate of dissociation\n",
        "  J3: I + W -> IW; k5*I*W - k6*IW;                          # alternative ligand binding step, k5 rate of vWFA binding, k6 rate of dissociation\n",
        "  J4: IF + IF -> C1; k7*IF^2 - k8*C1;\n",
        "  J5: IW + IW -> C2; k7*IW^2 - k8*C2;\n",
        "  J6: IF + IW -> C3; k7*IF*IW - k8*C3;                         # clustering step, k7 rate of clustering, k8 rate of dissociation\n",
        "\n",
        "  k1 = 5*10^6; k2 = 10^8; ; k3 = 1.6*10^8 ; k4 = 3.5*10^-1; k5 = 1.6*10^4 ; k6 = 2.3*10^-2; k7 = 1.6*10^8; k8 = 0.5*10^7; # assign constant values to global parameters\n",
        "  end\n",
        "  \"\"\"\n",
        "r2 = te.loada(Ant_str)\n",
        "\nprint(te.getODEsFromModel(r2))"
      ],
      "outputs": [
        {
          "output_type": "stream",
          "name": "stdout",
          "text": [
            "\n",
            "vJ1 = k1*i-k2*I\n",
            "vJ2 = k3*I*F-k4*IF\n",
            "vJ3 = k5*I*W-k6*IW\n",
            "vJ4 = k7*pow(IF,2)-k8*C1\n",
            "vJ5 = k7*pow(IW,2)-k8*C2\n",
            "vJ6 = k7*IF*IW-k8*C3\n",
            "\n",
            "di/dt = -vJ1\n",
            "dI/dt = vJ1 - vJ2 - vJ3\n",
            "dF/dt = -vJ2\n",
            "dIF/dt = vJ2 - 2.0*vJ4 - vJ6\n",
            "dW/dt = -vJ3\n",
            "dIW/dt = vJ3 - 2.0*vJ5 - vJ6\n",
            "dC1/dt = vJ4\n",
            "dC2/dt = vJ5\n",
            "dC3/dt = vJ6\n",
            "\n"
          ]
        }
      ],
      "execution_count": 3,
      "metadata": {
        "collapsed": false,
        "outputHidden": false,
        "inputHidden": false
      }
    },
    {
      "cell_type": "markdown",
      "source": [
        "# I rearranged auto-generated equations.\n",
        "di/dt = - k1*I + k2*I \n",
        "\n\n",
        "dI/dt = k1*I - k2*I - k3*I*F + k4*IF - k5*I*W + k6*IW \n",
        "\n\n",
        "dIF/dt = k3*I*F - k4*IF - 2*k7*IF^2 + 3*k8*C – k7*IF*IW \n",
        "\n\n",
        "dIW/dt = k5*I*W - k6*IW - 2*k7*IW^2 + 3*k8*C - k7*IF*IW \n",
        "\n\n",
        "dC1/dt = k7*IF^2 - k8*C1\n",
        "\n\n",
        "dC2/dt = k7*IW^2 - k8*C2\n",
        "\n\n",
        "dC3/dt = k7*IF*IW - k8*C3\n",
        "\n\n",
        "dF/dt = -k3*I*F + k4*IF\n",
        "\n\n",
        "dW/dt = -k5*I*W + k6*IW\n",
        " \n"
      ],
      "metadata": {
        "collapsed": false,
        "outputHidden": false,
        "inputHidden": false
      }
    }
  ],
  "metadata": {
    "kernelspec": {
      "name": "python3",
      "language": "python",
      "display_name": "Python 3 (built-in)"
    },
    "kernel_info": {
      "name": "python3"
    },
    "language_info": {
      "name": "python",
      "version": "3.6.2",
      "mimetype": "text/x-python",
      "codemirror_mode": {
        "name": "ipython",
        "version": 3
      },
      "pygments_lexer": "ipython3",
      "nbconvert_exporter": "python",
      "file_extension": ".py"
    }
  },
  "nbformat": 4,
  "nbformat_minor": 4
}